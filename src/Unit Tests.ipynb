{
 "cells": [
  {
   "cell_type": "code",
   "execution_count": null,
   "metadata": {},
   "outputs": [],
   "source": [
    "# %load boto_functions.py\n",
    "def list_notebooks(client):\n",
    "    \"\"\"List Sagemaker Notebooks\n",
    "    \n",
    "       args: client: boto3 low level client object\n",
    "       \n",
    "       returns: List of notebooks\n",
    "    \"\"\"\n",
    "    \n",
    "    retlist = []\n",
    "    nlist = client.list_notebook_instances()['NotebookInstances']\n",
    "    for nb in nlist:\n",
    "        retlist.append(nb['NotebookInstanceName'])\n",
    "    return retlist\n",
    "def show_notebook_status(client, notebook):\n",
    "    nlist = client.list_notebook_instances()['NotebookInstances']\n",
    "    if len(nlist) == 0:\n",
    "        print(\"No notebooks found\")\n",
    "        return \n",
    "    for nb in nlist:\n",
    "        if nb['NotebookInstanceName'] == notebook:\n",
    "            print(\"{} status: {}\".format(notebook,nb['NotebookInstanceStatus']))\n",
    "            return\n",
    "    print(\"{} not found\".format(notebook))\n",
    "    \n",
    "def get_url(client, notebook):\n",
    "    nlist = client.list_notebook_instances()['NotebookInstances']\n",
    "    for nb in nlist:\n",
    "        if nb['NotebookInstanceName'] == notebook:\n",
    "            print(\"{} Url: https://{}\".format(notebook, nb['Url']))\n",
    "            \n",
    "def list_buckets(client):\n",
    "    names = []\n",
    "    resp = client.list_buckets()\n",
    "    bucks = resp['Buckets']\n",
    "    for buck in bucks:\n",
    "        names.append(buck['Name'])\n",
    "    return names\n",
    "def create_clients(services, access_key, secret_key, region='us-east-1'):\n",
    "    import boto3\n",
    "    clients = []\n",
    "    for service in services:\n",
    "        client = boto3.client(service, aws_access_key_id=access_key, aws_secret_access_key=secret_key,\n",
    "                              region_name=region)\n",
    "        clients.append(client)\n",
    "    \n",
    "    return clients\n",
    "def create_resources(services, access_key, secret_key, region='us-east-1'):\n",
    "    import boto3\n",
    "    resources = []\n",
    "    for service in services:\n",
    "        resource = boto3.resource(service, aws_access_key_id=access_key, aws_secret_access_key=secret_key,\n",
    "                                  region_name=region)\n",
    "        resources.append(resource)\n",
    "    return resources\n"
   ]
  },
  {
   "cell_type": "code",
   "execution_count": null,
   "metadata": {},
   "outputs": [],
   "source": [
    "import pytest\n",
    "from boto_functions import create_resources\n",
    "def test_with_unknown_resource():\n",
    "    assert create_resources(['sagemaker'], access_key, secret_key)"
   ]
  }
 ],
 "metadata": {
  "kernelspec": {
   "display_name": "Python 3",
   "language": "python",
   "name": "python3"
  },
  "language_info": {
   "codemirror_mode": {
    "name": "ipython",
    "version": 3
   },
   "file_extension": ".py",
   "mimetype": "text/x-python",
   "name": "python",
   "nbconvert_exporter": "python",
   "pygments_lexer": "ipython3",
   "version": "3.7.3"
  }
 },
 "nbformat": 4,
 "nbformat_minor": 2
}
